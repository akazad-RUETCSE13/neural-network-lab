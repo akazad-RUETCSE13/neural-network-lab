{
 "cells": [
  {
   "cell_type": "markdown",
   "metadata": {},
   "source": [
    "# Nearest Neighbor Algorithm Implemetation with Rouge Pattern "
   ]
  },
  {
   "cell_type": "markdown",
   "metadata": {},
   "source": [
    "In this algorithm, we have given some dataset with labels. We need to show them graphically. Then, for any input, we need to classify it and show labels using nearest neighbor algorithm where we take average distance from all the points of one label. Then we need to add the new data into the dataset and show new plot.\n",
    "\n",
    "\n",
    "Given, two class: football player and wrestler and their height and weight\n",
    "\n",
    "#Input:\n",
    "Height in cm\n",
    "weight in Kg\n",
    "\n",
    "#label\n",
    "0 for football player\n",
    "1 for wrestler\n"
   ]
  },
  {
   "cell_type": "code",
   "execution_count": 1,
   "metadata": {},
   "outputs": [],
   "source": [
    "# Importing necessary library\n",
    "import numpy as np\n",
    "import matplotlib.pyplot as plt"
   ]
  },
  {
   "cell_type": "code",
   "execution_count": 11,
   "metadata": {},
   "outputs": [],
   "source": [
    "# plot the values\n",
    "def SHOW(arr):\n",
    "    plt.subplot(111)\n",
    "    for i in range(0,arr.shape[0]):\n",
    "        if(arr[i,2]==0):\n",
    "            plt.plot(arr[i,0],arr[i,1],'ro')\n",
    "        else:\n",
    "            plt.plot(arr[i,0],arr[i,1],'gx')\n",
    "\n",
    "    #plt.axis([140, 180, 0, 100])\n",
    "    plt.xlabel(\"height\")\n",
    "    plt.ylabel(\"weight\")\n",
    "    plt.show()\n",
    "    return"
   ]
  },
  {
   "cell_type": "code",
   "execution_count": 16,
   "metadata": {},
   "outputs": [],
   "source": [
    "# Assigning new value to its class\n",
    "def ASSIGN(arr, new):\n",
    "    dist0=0\n",
    "    dist1=0\n",
    "    cnt0=0;\n",
    "    cnt1=0;\n",
    "    \n",
    "    for i in range(0,arr.shape[0]):\n",
    "        if(arr[i,2]==0):\n",
    "            dist0 = dist0 + np.linalg.norm(new-arr[i,:2])\n",
    "            cnt0=cnt0+1\n",
    "        else:\n",
    "            dist1 = dist1 + np.linalg.norm(new-arr[i,:2])\n",
    "            cnt1=cnt1+1;\n",
    "\n",
    "    \n",
    "    dist0 = dist0/cnt0\n",
    "    dist1 = dist1/cnt1\n",
    "    \n",
    "    \n",
    "    print(dist0)\n",
    "    print(dist1)\n",
    "\n",
    "    if(dist0<dist1):\n",
    "        arr = np.append(arr,[[new[0],new[1],0]],axis=0)\n",
    "    else:\n",
    "        arr = np.append(arr,[[new[0],new[1],1]],axis=0)\n",
    "    return arr"
   ]
  },
  {
   "cell_type": "code",
   "execution_count": 17,
   "metadata": {},
   "outputs": [
    {
     "data": {
      "image/png": "[encoded data removed]",
      "text/plain": [
       "<matplotlib.figure.Figure at 0x7ff2989b4390>"
      ]
     },
     "metadata": {},
     "output_type": "display_data"
    }
   ],
   "source": [
    "# initial data\n",
    "# contains (height, weight, label)\n",
    "DataSet = np.array([[160,60,0],[170,70,1],[155,58,0],[155,62,0],[160,55,0],[165,70,1],[171,80,1]])\n",
    "SHOW(DataSet)"
   ]
  },
  {
   "cell_type": "code",
   "execution_count": 18,
   "metadata": {},
   "outputs": [
    {
     "name": "stdout",
     "output_type": "stream",
     "text": [
      "Enter height: 168\n",
      "Enter weight: 75\n",
      "19.581592524605234\n",
      "5.682356198941702\n"
     ]
    },
    {
     "data": {
      "image/png": "[encoded data removed]",
      "text/plain": [
       "<matplotlib.figure.Figure at 0x7ff2989b4240>"
      ]
     },
     "metadata": {},
     "output_type": "display_data"
    },
    {
     "name": "stdout",
     "output_type": "stream",
     "text": [
      "Enter height: 160\n",
      "Enter weight: 90\n",
      "31.45779869701477\n",
      "18.71056916260118\n"
     ]
    },
    {
     "data": {
      "image/png": "[encoded data removed]",
      "text/plain": [
       "<matplotlib.figure.Figure at 0x7ff2988f7908>"
      ]
     },
     "metadata": {},
     "output_type": "display_data"
    },
    {
     "name": "stdout",
     "output_type": "stream",
     "text": [
      "Enter height: 0\n",
      "Goodby\n"
     ]
    }
   ],
   "source": [
    "height = int(input(\"Enter height: \"),10)\n",
    "while(height!=0):\n",
    "    weight = int(input(\"Enter weight: \"),10)\n",
    "    new = np.array([height,weight])\n",
    "    DataSet = ASSIGN(DataSet,new)\n",
    "    SHOW(DataSet)\n",
    "    height = int(input(\"Enter height: \"),10)\n",
    "\n",
    "print(\"Goodby\")\n",
    "    "
   ]
  },
  {
   "cell_type": "code",
   "execution_count": null,
   "metadata": {},
   "outputs": [],
   "source": []
  },
  {
   "cell_type": "code",
   "execution_count": null,
   "metadata": {},
   "outputs": [],
   "source": []
  }
 ],
 "metadata": {
  "kernelspec": {
   "display_name": "Python 3",
   "language": "python",
   "name": "python3"
  },
  "language_info": {
   "codemirror_mode": {
    "name": "ipython",
    "version": 3
   },
   "file_extension": ".py",
   "mimetype": "text/x-python",
   "name": "python",
   "nbconvert_exporter": "python",
   "pygments_lexer": "ipython3",
   "version": "3.6.4"
  }
 },
 "nbformat": 4,
 "nbformat_minor": 2
}
